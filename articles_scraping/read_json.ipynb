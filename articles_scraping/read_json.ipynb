{
 "cells": [
  {
   "cell_type": "code",
   "execution_count": 1,
   "metadata": {},
   "outputs": [],
   "source": [
    "import pandas as pd\n",
    "import json"
   ]
  },
  {
   "cell_type": "code",
   "execution_count": 2,
   "metadata": {},
   "outputs": [],
   "source": [
    "# Carregar o JSON com os dados extraídos\n",
    "with open(\"noh_faq_completo_vf.json\", \"r\", encoding=\"utf-8\") as f:\n",
    "    dados = json.load(f)"
   ]
  },
  {
   "cell_type": "code",
   "execution_count": 3,
   "metadata": {},
   "outputs": [],
   "source": [
    "# Converter para um DataFrame do Pandas\n",
    "df = pd.DataFrame(dados)"
   ]
  },
  {
   "cell_type": "code",
   "execution_count": 4,
   "metadata": {},
   "outputs": [
    {
     "data": {
      "text/html": [
       "<div>\n",
       "<style scoped>\n",
       "    .dataframe tbody tr th:only-of-type {\n",
       "        vertical-align: middle;\n",
       "    }\n",
       "\n",
       "    .dataframe tbody tr th {\n",
       "        vertical-align: top;\n",
       "    }\n",
       "\n",
       "    .dataframe thead th {\n",
       "        text-align: right;\n",
       "    }\n",
       "</style>\n",
       "<table border=\"1\" class=\"dataframe\">\n",
       "  <thead>\n",
       "    <tr style=\"text-align: right;\">\n",
       "      <th></th>\n",
       "      <th>url</th>\n",
       "      <th>titulo</th>\n",
       "      <th>conteudo</th>\n",
       "      <th>artigos_relacionados</th>\n",
       "      <th>categoria</th>\n",
       "      <th>subtitulo_categoria</th>\n",
       "      <th>link_categoria</th>\n",
       "    </tr>\n",
       "  </thead>\n",
       "  <tbody>\n",
       "    <tr>\n",
       "      <th>0</th>\n",
       "      <td>https://www.noh.com.br/ajuda/o-que-e-a-noh</td>\n",
       "      <td>O que é a Noh?</td>\n",
       "      <td>A Noh é uma\\nconta para o casal que junto, pod...</td>\n",
       "      <td>[https://www.noh.com.br/ajuda/como-funciona-o-...</td>\n",
       "      <td>Sobre Nohs</td>\n",
       "      <td>Saiba mais sobre a Noh e a nossa segurança</td>\n",
       "      <td>https://www.noh.com.br/ajuda-categorias/sobre-...</td>\n",
       "    </tr>\n",
       "    <tr>\n",
       "      <th>1</th>\n",
       "      <td>https://www.noh.com.br/ajuda/os-meus-dados-e-o...</td>\n",
       "      <td>Os meus dados e o meu dinheiro estão seguros?</td>\n",
       "      <td>Sim, os seus dados e dinheiro estão seguros co...</td>\n",
       "      <td>[https://www.noh.com.br/ajuda/como-funciona-o-...</td>\n",
       "      <td>Sobre Nohs</td>\n",
       "      <td>Saiba mais sobre a Noh e a nossa segurança</td>\n",
       "      <td>https://www.noh.com.br/ajuda-categorias/sobre-...</td>\n",
       "    </tr>\n",
       "    <tr>\n",
       "      <th>2</th>\n",
       "      <td>https://www.noh.com.br/ajuda/quanto-custa</td>\n",
       "      <td>Quanto custa a Noh?</td>\n",
       "      <td>A Noh tem uma mensalidade de R$14,00 por casal...</td>\n",
       "      <td>[https://www.noh.com.br/ajuda/como-faco-para-m...</td>\n",
       "      <td>Sobre Nohs</td>\n",
       "      <td>Saiba mais sobre a Noh e a nossa segurança</td>\n",
       "      <td>https://www.noh.com.br/ajuda-categorias/sobre-...</td>\n",
       "    </tr>\n",
       "    <tr>\n",
       "      <th>3</th>\n",
       "      <td>https://www.noh.com.br/ajuda/seguranca-saiba-c...</td>\n",
       "      <td>Segurança: saiba como se proteger</td>\n",
       "      <td>Preparamos algumas recomendações para aumentar...</td>\n",
       "      <td>[https://www.noh.com.br/ajuda/a-noh-tem-caixin...</td>\n",
       "      <td>Sobre Nohs</td>\n",
       "      <td>Saiba mais sobre a Noh e a nossa segurança</td>\n",
       "      <td>https://www.noh.com.br/ajuda-categorias/sobre-...</td>\n",
       "    </tr>\n",
       "    <tr>\n",
       "      <th>4</th>\n",
       "      <td>https://www.noh.com.br/ajuda/onde-encontro-meu...</td>\n",
       "      <td>Onde encontro meu informe de rendimentos?</td>\n",
       "      <td>O Informe de Rendimentos é enviado pela nossa ...</td>\n",
       "      <td>[https://www.noh.com.br/ajuda/como-funciona-o-...</td>\n",
       "      <td>Sobre Nohs</td>\n",
       "      <td>Saiba mais sobre a Noh e a nossa segurança</td>\n",
       "      <td>https://www.noh.com.br/ajuda-categorias/sobre-...</td>\n",
       "    </tr>\n",
       "  </tbody>\n",
       "</table>\n",
       "</div>"
      ],
      "text/plain": [
       "                                                 url  \\\n",
       "0         https://www.noh.com.br/ajuda/o-que-e-a-noh   \n",
       "1  https://www.noh.com.br/ajuda/os-meus-dados-e-o...   \n",
       "2          https://www.noh.com.br/ajuda/quanto-custa   \n",
       "3  https://www.noh.com.br/ajuda/seguranca-saiba-c...   \n",
       "4  https://www.noh.com.br/ajuda/onde-encontro-meu...   \n",
       "\n",
       "                                          titulo  \\\n",
       "0                                 O que é a Noh?   \n",
       "1  Os meus dados e o meu dinheiro estão seguros?   \n",
       "2                            Quanto custa a Noh?   \n",
       "3              Segurança: saiba como se proteger   \n",
       "4      Onde encontro meu informe de rendimentos?   \n",
       "\n",
       "                                            conteudo  \\\n",
       "0  A Noh é uma\\nconta para o casal que junto, pod...   \n",
       "1  Sim, os seus dados e dinheiro estão seguros co...   \n",
       "2  A Noh tem uma mensalidade de R$14,00 por casal...   \n",
       "3  Preparamos algumas recomendações para aumentar...   \n",
       "4  O Informe de Rendimentos é enviado pela nossa ...   \n",
       "\n",
       "                                artigos_relacionados   categoria  \\\n",
       "0  [https://www.noh.com.br/ajuda/como-funciona-o-...  Sobre Nohs   \n",
       "1  [https://www.noh.com.br/ajuda/como-funciona-o-...  Sobre Nohs   \n",
       "2  [https://www.noh.com.br/ajuda/como-faco-para-m...  Sobre Nohs   \n",
       "3  [https://www.noh.com.br/ajuda/a-noh-tem-caixin...  Sobre Nohs   \n",
       "4  [https://www.noh.com.br/ajuda/como-funciona-o-...  Sobre Nohs   \n",
       "\n",
       "                          subtitulo_categoria  \\\n",
       "0  Saiba mais sobre a Noh e a nossa segurança   \n",
       "1  Saiba mais sobre a Noh e a nossa segurança   \n",
       "2  Saiba mais sobre a Noh e a nossa segurança   \n",
       "3  Saiba mais sobre a Noh e a nossa segurança   \n",
       "4  Saiba mais sobre a Noh e a nossa segurança   \n",
       "\n",
       "                                      link_categoria  \n",
       "0  https://www.noh.com.br/ajuda-categorias/sobre-...  \n",
       "1  https://www.noh.com.br/ajuda-categorias/sobre-...  \n",
       "2  https://www.noh.com.br/ajuda-categorias/sobre-...  \n",
       "3  https://www.noh.com.br/ajuda-categorias/sobre-...  \n",
       "4  https://www.noh.com.br/ajuda-categorias/sobre-...  "
      ]
     },
     "execution_count": 4,
     "metadata": {},
     "output_type": "execute_result"
    }
   ],
   "source": [
    "# Exibir algumas linhas pra conferir se tá tudo certo\n",
    "df.head()"
   ]
  },
  {
   "cell_type": "code",
   "execution_count": 5,
   "metadata": {},
   "outputs": [
    {
     "data": {
      "text/plain": [
       "(78, 7)"
      ]
     },
     "execution_count": 5,
     "metadata": {},
     "output_type": "execute_result"
    }
   ],
   "source": [
    "df.shape"
   ]
  },
  {
   "cell_type": "code",
   "execution_count": 6,
   "metadata": {},
   "outputs": [
    {
     "name": "stdout",
     "output_type": "stream",
     "text": [
      "A Noh é uma\n",
      "conta para o casal que junto, pode tudo\n",
      ", e busca um lugar pra controlar e juntar suas finanças.\n",
      "\n",
      "Sabe aquela assinatura da Netflix, pedido no iFood, compras do mercado ou qualquer outra conta que sempre dá dor de cabeça na hora de pagar juntos?\n",
      "\n",
      "Estamos aqui para acabar com isso, trazendo mais transparência, justiça e simplicidade para as finanças do casal.\n",
      "\n",
      "Com a Noh vocês podem fazer pagamentos via Pix, boleto ou cartão pré-pago, além de terem acesso ao extrato para saber quanto cada um contribuiu. Assim, vocês percebem que,\n",
      "juntos, podem tudo\n",
      ".\n",
      "\n",
      "Baixe o nosso app na\n",
      "Apple Store\n",
      "ou\n",
      "Google Play\n",
      "para dizer adeus às planilhas, bloco de notas e discussões na hora de pagar as contas.\n"
     ]
    }
   ],
   "source": [
    "print(df.loc[0, \"conteudo\"])"
   ]
  },
  {
   "cell_type": "code",
   "execution_count": 7,
   "metadata": {},
   "outputs": [],
   "source": [
    "df[\"conteudo\"] = df[\"conteudo\"].apply(lambda x: \" \".join(x.split()))"
   ]
  },
  {
   "cell_type": "code",
   "execution_count": 8,
   "metadata": {},
   "outputs": [
    {
     "name": "stdout",
     "output_type": "stream",
     "text": [
      "A Noh é uma conta para o casal que junto, pode tudo , e busca um lugar pra controlar e juntar suas finanças. Sabe aquela assinatura da Netflix, pedido no iFood, compras do mercado ou qualquer outra conta que sempre dá dor de cabeça na hora de pagar juntos? Estamos aqui para acabar com isso, trazendo mais transparência, justiça e simplicidade para as finanças do casal. Com a Noh vocês podem fazer pagamentos via Pix, boleto ou cartão pré-pago, além de terem acesso ao extrato para saber quanto cada um contribuiu. Assim, vocês percebem que, juntos, podem tudo . Baixe o nosso app na Apple Store ou Google Play para dizer adeus às planilhas, bloco de notas e discussões na hora de pagar as contas.\n"
     ]
    }
   ],
   "source": [
    "print(df.loc[0, \"conteudo\"])"
   ]
  },
  {
   "cell_type": "code",
   "execution_count": 9,
   "metadata": {},
   "outputs": [
    {
     "name": "stdout",
     "output_type": "stream",
     "text": [
      "\n",
      "Info do DataFrame:\n",
      "<class 'pandas.core.frame.DataFrame'>\n",
      "RangeIndex: 78 entries, 0 to 77\n",
      "Data columns (total 7 columns):\n",
      " #   Column                Non-Null Count  Dtype \n",
      "---  ------                --------------  ----- \n",
      " 0   url                   78 non-null     object\n",
      " 1   titulo                78 non-null     object\n",
      " 2   conteudo              78 non-null     object\n",
      " 3   artigos_relacionados  78 non-null     object\n",
      " 4   categoria             78 non-null     object\n",
      " 5   subtitulo_categoria   78 non-null     object\n",
      " 6   link_categoria        78 non-null     object\n",
      "dtypes: object(7)\n",
      "memory usage: 4.4+ KB\n"
     ]
    }
   ],
   "source": [
    "# Verificar estrutura do DataFrame\n",
    "print(\"\\nInfo do DataFrame:\")\n",
    "df.info()\n"
   ]
  }
 ],
 "metadata": {
  "kernelspec": {
   "display_name": "noh-faq",
   "language": "python",
   "name": "python3"
  },
  "language_info": {
   "codemirror_mode": {
    "name": "ipython",
    "version": 3
   },
   "file_extension": ".py",
   "mimetype": "text/x-python",
   "name": "python",
   "nbconvert_exporter": "python",
   "pygments_lexer": "ipython3",
   "version": "3.12.8"
  }
 },
 "nbformat": 4,
 "nbformat_minor": 2
}
