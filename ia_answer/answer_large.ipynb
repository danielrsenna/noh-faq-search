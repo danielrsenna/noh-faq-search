{
 "cells": [
  {
   "cell_type": "code",
   "execution_count": null,
   "metadata": {},
   "outputs": [
    {
     "name": "stderr",
     "output_type": "stream",
     "text": [
      "c:\\Users\\daniel.senna\\AppData\\Local\\anaconda3\\envs\\noh-faq\\Lib\\site-packages\\pinecone\\data\\index.py:1: TqdmWarning: IProgress not found. Please update jupyter and ipywidgets. See https://ipywidgets.readthedocs.io/en/stable/user_install.html\n",
      "  from tqdm.autonotebook import tqdm\n"
     ]
    }
   ],
   "source": [
    "import time\n",
    "import os\n",
    "from dotenv import load_dotenv\n",
    "\n",
    "from langchain_openai import OpenAIEmbeddings\n",
    "from pinecone import Pinecone, ServerlessSpec\n",
    "from langchain_pinecone import PineconeVectorStore"
   ]
  },
  {
   "cell_type": "code",
   "execution_count": 2,
   "metadata": {},
   "outputs": [],
   "source": [
    "load_dotenv()\n",
    "pinecone_api_key = os.environ.get(\"PINECONE_API_KEY\")\n",
    "pc = Pinecone(api_key=pinecone_api_key)\n",
    "\n",
    "index_name = \"noh-faq-index-3072\"  \n",
    "index_large = pc.Index(index_name)"
   ]
  },
  {
   "cell_type": "code",
   "execution_count": 3,
   "metadata": {},
   "outputs": [
    {
     "data": {
      "text/plain": [
       "{\n",
       "    \"name\": \"noh-faq-index-3072\",\n",
       "    \"dimension\": 3072,\n",
       "    \"metric\": \"cosine\",\n",
       "    \"host\": \"noh-faq-index-3072-0c15b22.svc.aped-4627-b74a.pinecone.io\",\n",
       "    \"spec\": {\n",
       "        \"serverless\": {\n",
       "            \"cloud\": \"aws\",\n",
       "            \"region\": \"us-east-1\"\n",
       "        }\n",
       "    },\n",
       "    \"status\": {\n",
       "        \"ready\": true,\n",
       "        \"state\": \"Ready\"\n",
       "    },\n",
       "    \"deletion_protection\": \"disabled\"\n",
       "}"
      ]
     },
     "execution_count": 3,
     "metadata": {},
     "output_type": "execute_result"
    }
   ],
   "source": [
    "#checando se o index no pinecone foi criado\n",
    "pc.describe_index(\"noh-faq-index-3072\")"
   ]
  },
  {
   "cell_type": "code",
   "execution_count": 4,
   "metadata": {},
   "outputs": [],
   "source": [
    "embeddings_large = OpenAIEmbeddings(model=\"text-embedding-3-large\")\n",
    "vector_store_large = PineconeVectorStore(index=index_large, embedding=embeddings_large)"
   ]
  },
  {
   "cell_type": "code",
   "execution_count": 8,
   "metadata": {},
   "outputs": [],
   "source": [
    "#testando uma query\n",
    "user_question = \"preciso pagar pra ter conta na Noh?\"\n",
    "start_time_large = time.time()\n",
    "results_large = vector_store_large.similarity_search_with_score(\n",
    "    user_question,\n",
    "    k=5\n",
    "    )\n",
    "end_time_large = time.time()\n",
    "tempo_large = end_time_large - start_time_large"
   ]
  },
  {
   "cell_type": "code",
   "execution_count": 9,
   "metadata": {},
   "outputs": [
    {
     "name": "stdout",
     "output_type": "stream",
     "text": [
      "Tempo modelo large: 1.0833 segundos\n"
     ]
    }
   ],
   "source": [
    "print(f\"Tempo modelo large: {tempo_large:.4f} segundos\")"
   ]
  },
  {
   "cell_type": "code",
   "execution_count": 11,
   "metadata": {},
   "outputs": [
    {
     "name": "stdout",
     "output_type": "stream",
     "text": [
      "Quanto custa a Noh? A Noh tem uma mensalidade de R$14,00 por casal (R$ 7,00 por pessoa). Esse valor é o que vai nos ajudar a continuar crescendo de forma sustentável, sem a necessidade de vender seus dados, ou exibir anúncios de outros produtos que poluam sua experiência no aplicativo. Queremos que nossa fonte de receita venha do aplicativo e cartão que criamos, que é o símbolo do nosso movimento para acabar com as gambiarras dos casais que tentam adaptar ferramentas individuais para uma vida conjunta.\n",
      "0.664116\n",
      "O que acontece se eu não quiser assinar a Noh? Ao criar a conta, damos um prazo para testarem o app e decidirem se ele faz sentido nas finanças compartilhadas de vocês, mas só assinantes poderão usar a Noh. Caso não queiram assinar, vocês poderão desativar suas contas pelo próprio app. Ao desativá-las, não será mais possível fazer pagamentos com a Noh, os cartões (virtual e físico) serão cancelados e vocês não terão mais acesso ao app.\n",
      "0.657379508\n",
      "Por que a mensalidade? A Noh nasceu para revolucionar o ecossistema financeiro, pois não aguentávamos mais os produtos feitos para 1, sendo que a vida é em 2. Nosso foco sempre foi promover união, transparência e praticidade, entregando um produto com qualidade, design e segurança, simplificando as finanças a dois. Além disso, não temos a intenção de “usar seus dados” ou te “comprar”, oferecer produtos desnecessários com anúncios no app. Queremos que nossa fonte de renda venha do aplicativo que criamos, que é o símbolo desse movimento e da inovação. E para que esse movimento continue existindo de maneira sustentável, a Noh tem uma mensalidade de R$ 14 por casal (R$ 7,00 por pessoa). Quer saber mais sobre a mensalidade? Venham ler a nossa carta aberta e o comparativo de preços em relação aos grandes bancos.\n",
      "0.64563328\n",
      "O que é a Noh? A Noh é uma conta para o casal que junto, pode tudo , e busca um lugar pra controlar e juntar suas finanças. Sabe aquela assinatura da Netflix, pedido no iFood, compras do mercado ou qualquer outra conta que sempre dá dor de cabeça na hora de pagar juntos? Estamos aqui para acabar com isso, trazendo mais transparência, justiça e simplicidade para as finanças do casal. Com a Noh vocês podem fazer pagamentos via Pix, boleto ou cartão pré-pago, além de terem acesso ao extrato para saber quanto cada um contribuiu. Assim, vocês percebem que, juntos, podem tudo . Baixe o nosso app na Apple Store ou Google Play para dizer adeus às planilhas, bloco de notas e discussões na hora de pagar as contas.\n",
      "0.639956951\n",
      "Como faço pra criar conta? Para você criar uma conta na Noh e começar a dividir os gastos com seu amor, siga estes passos: Baixe o app da Noh na App Store ou Google Play ; Insira seu telefone com DDD; Digite o código que irá receber por SMS; Complete o cadastro com seus dados pessoais e endereço; Envie o seu documento, RG ou CNH, e selfie para validação da conta; Adicione o seu amor e crie seu Noh. Pronto! Agora é só esperar, assim que terminarmos a análise para abertura da sua conta, vocês receberão uma notificação do app.\n",
      "0.628692806\n"
     ]
    }
   ],
   "source": [
    "for i  in results_large:\n",
    "    print(i[0].page_content)\n",
    "    print(i[1])"
   ]
  },
  {
   "cell_type": "code",
   "execution_count": 46,
   "metadata": {},
   "outputs": [],
   "source": [
    "contexto_rag = \"\"\n",
    "for i in results_large:\n",
    "    titulo = i[0].metadata['titulo_artigo']\n",
    "    conteudo = i[0].metadata['conteudo_artigo']\n",
    "    contexto_rag += f\"Título do Artigo: {titulo}\\nConteúdo: {conteudo}\\n\\n\""
   ]
  },
  {
   "cell_type": "code",
   "execution_count": 47,
   "metadata": {},
   "outputs": [
    {
     "name": "stdout",
     "output_type": "stream",
     "text": [
      "Título do Artigo: Quanto custa a Noh?\n",
      "Conteúdo: A Noh tem uma mensalidade de R$14,00 por casal (R$ 7,00 por pessoa). Esse valor é o que vai nos ajudar a continuar crescendo de forma sustentável, sem a necessidade de vender seus dados, ou exibir anúncios de outros produtos que poluam sua experiência no aplicativo. Queremos que nossa fonte de receita venha do aplicativo e cartão que criamos, que é o símbolo do nosso movimento para acabar com as gambiarras dos casais que tentam adaptar ferramentas individuais para uma vida conjunta.\n",
      "\n",
      "Título do Artigo: O que acontece se eu não quiser assinar a Noh?\n",
      "Conteúdo: Ao criar a conta, damos um prazo para testarem o app e decidirem se ele faz sentido nas finanças compartilhadas de vocês, mas só assinantes poderão usar a Noh. Caso não queiram assinar, vocês poderão desativar suas contas pelo próprio app. Ao desativá-las, não será mais possível fazer pagamentos com a Noh, os cartões (virtual e físico) serão cancelados e vocês não terão mais acesso ao app.\n",
      "\n",
      "Título do Artigo: Por que a mensalidade?\n",
      "Conteúdo: A Noh nasceu para revolucionar o ecossistema financeiro, pois não aguentávamos mais os produtos feitos para 1, sendo que a vida é em 2. Nosso foco sempre foi promover união, transparência e praticidade, entregando um produto com qualidade, design e segurança, simplificando as finanças a dois. Além disso, não temos a intenção de “usar seus dados” ou te “comprar”, oferecer produtos desnecessários com anúncios no app. Queremos que nossa fonte de renda venha do aplicativo que criamos, que é o símbolo desse movimento e da inovação. E para que esse movimento continue existindo de maneira sustentável, a Noh tem uma mensalidade de R$ 14 por casal (R$ 7,00 por pessoa). Quer saber mais sobre a mensalidade? Venham ler a nossa carta aberta e o comparativo de preços em relação aos grandes bancos.\n",
      "\n",
      "Título do Artigo: O que é a Noh?\n",
      "Conteúdo: A Noh é uma conta para o casal que junto, pode tudo , e busca um lugar pra controlar e juntar suas finanças. Sabe aquela assinatura da Netflix, pedido no iFood, compras do mercado ou qualquer outra conta que sempre dá dor de cabeça na hora de pagar juntos? Estamos aqui para acabar com isso, trazendo mais transparência, justiça e simplicidade para as finanças do casal. Com a Noh vocês podem fazer pagamentos via Pix, boleto ou cartão pré-pago, além de terem acesso ao extrato para saber quanto cada um contribuiu. Assim, vocês percebem que, juntos, podem tudo . Baixe o nosso app na Apple Store ou Google Play para dizer adeus às planilhas, bloco de notas e discussões na hora de pagar as contas.\n",
      "\n",
      "Título do Artigo: Como faço pra criar conta?\n",
      "Conteúdo: Para você criar uma conta na Noh e começar a dividir os gastos com seu amor, siga estes passos: Baixe o app da Noh na App Store ou Google Play ; Insira seu telefone com DDD; Digite o código que irá receber por SMS; Complete o cadastro com seus dados pessoais e endereço; Envie o seu documento, RG ou CNH, e selfie para validação da conta; Adicione o seu amor e crie seu Noh. Pronto! Agora é só esperar, assim que terminarmos a análise para abertura da sua conta, vocês receberão uma notificação do app.\n",
      "\n",
      "\n"
     ]
    }
   ],
   "source": [
    "print(contexto_rag)"
   ]
  },
  {
   "cell_type": "code",
   "execution_count": 18,
   "metadata": {},
   "outputs": [],
   "source": [
    "#gpt-4o-mini\n",
    "from langchain_openai import ChatOpenAI\n",
    "from langchain.chains import create_retrieval_chain\n",
    "from langchain.chains.combine_documents import create_stuff_documents_chain\n",
    "from langchain_core.prompts import ChatPromptTemplate\n",
    "#from langchain import hub\n"
   ]
  },
  {
   "cell_type": "code",
   "execution_count": 52,
   "metadata": {},
   "outputs": [],
   "source": [
    "llm = ChatOpenAI(\n",
    "    model=\"gpt-4o-mini\",\n",
    "    temperature=0.6,\n",
    "    max_tokens=None,\n",
    "    timeout=None,\n",
    "    max_retries=2\n",
    ")"
   ]
  },
  {
   "cell_type": "code",
   "execution_count": 54,
   "metadata": {},
   "outputs": [],
   "source": [
    "system_template = \"\"\"TAREFA:\n",
    "            Você é um assistente para pergunta-resposta (Q&A), seu papel é responder dúvidas de visitantes no website da Noh. Noh é um banco digital que oferece conta financeira para apenas para casais.\n",
    "            Como contexto, serão fornecidos 3 artigos da central de ajuda da Noh obtidos via embeddings (RAG), ou seja, serão fornecidos os 3 artigos mais similares à pergunta do usuário. \n",
    "            INSTRUÇÕES:\n",
    "            Responda EXCLUSIVAMENTE com base nos artigos fornecidos como contexto, NÃO invente informações sobre a conta Noh. Se você achar que os conteúdos dos artigos fornecidos não são suficientes para responder a pergunta do usuário, apenas diga que não é capaz de responder no momento. \n",
    "            Responda em língua portuguesa. \n",
    "            Responda com o mesmo tom de voz dos artigos fornecidos como contexto.\n",
    "            Responda de forma concisa e termine com \"para mais informações, consulte os artigos abaixo\".\n",
    "\n",
    "            Artigos da Central de Ajuda:\\n{contexto}\"\"\"\n",
    "\n",
    "prompt_template = ChatPromptTemplate.from_messages(\n",
    "    [(\"system\", system_template), (\"user\", \"{user_question}\")]\n",
    ")"
   ]
  },
  {
   "cell_type": "code",
   "execution_count": 55,
   "metadata": {},
   "outputs": [],
   "source": [
    "prompt = prompt_template.invoke({\"contexto\": contexto_rag, \"user_question\": user_question})"
   ]
  },
  {
   "cell_type": "code",
   "execution_count": 56,
   "metadata": {},
   "outputs": [
    {
     "name": "stdout",
     "output_type": "stream",
     "text": [
      "Sim, a Noh tem uma mensalidade de R$14,00 por casal (R$7,00 por pessoa). Esse valor é necessário para que o serviço continue a crescer de forma sustentável. Para mais informações, consulte os artigos abaixo.\n"
     ]
    }
   ],
   "source": [
    "response = llm.invoke(prompt)\n",
    "print(response.content)"
   ]
  }
 ],
 "metadata": {
  "kernelspec": {
   "display_name": "noh-faq",
   "language": "python",
   "name": "python3"
  },
  "language_info": {
   "codemirror_mode": {
    "name": "ipython",
    "version": 3
   },
   "file_extension": ".py",
   "mimetype": "text/x-python",
   "name": "python",
   "nbconvert_exporter": "python",
   "pygments_lexer": "ipython3",
   "version": "3.12.8"
  }
 },
 "nbformat": 4,
 "nbformat_minor": 2
}
